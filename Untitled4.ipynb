{
  "cells": [
    {
      "cell_type": "markdown",
      "metadata": {
        "id": "view-in-github",
        "colab_type": "text"
      },
      "source": [
        "<a href=\"https://colab.research.google.com/github/KAMALESH777-B/KAMALESH777-B/blob/main/Untitled4.ipynb\" target=\"_parent\"><img src=\"https://colab.research.google.com/assets/colab-badge.svg\" alt=\"Open In Colab\"/></a>"
      ]
    },
    {
      "cell_type": "code",
      "execution_count": null,
      "metadata": {
        "colab": {
          "base_uri": "https://localhost:8080/"
        },
        "id": "EKJQOVjD-jeQ",
        "outputId": "4fd392f1-a78d-4333-8ffa-2d37e4ae026e"
      },
      "outputs": [
        {
          "name": "stdout",
          "output_type": "stream",
          "text": [
            "please enter the first number20\n",
            "please enter the second number40\n",
            "20 + 40 = 2040\n"
          ]
        }
      ],
      "source": [
        "value1=(input('please enter the first number'))\n",
        "value2=(input('please enter the second number'))\n",
        "sum=value1+value2\n",
        "print(value1,'+',value2,'=',sum)"
      ]
    },
    {
      "cell_type": "code",
      "execution_count": null,
      "metadata": {
        "colab": {
          "base_uri": "https://localhost:8080/"
        },
        "id": "b40hmXpdAIsr",
        "outputId": "b2b3a633-de9f-4213-8347-63e95ff002bb"
      },
      "outputs": [
        {
          "data": {
            "text/plain": [
              "30"
            ]
          },
          "execution_count": 4,
          "metadata": {},
          "output_type": "execute_result"
        }
      ],
      "source": [
        "x=10\n",
        "y=20\n",
        "x+y"
      ]
    },
    {
      "cell_type": "code",
      "execution_count": null,
      "metadata": {
        "colab": {
          "base_uri": "https://localhost:8080/",
          "height": 35
        },
        "id": "4WtkKEHJAIwK",
        "outputId": "49832b09-8e39-4aa2-89f0-2b7c3035db0a"
      },
      "outputs": [
        {
          "data": {
            "application/vnd.google.colaboratory.intrinsic+json": {
              "type": "string"
            },
            "text/plain": [
              "'1020'"
            ]
          },
          "execution_count": 5,
          "metadata": {},
          "output_type": "execute_result"
        }
      ],
      "source": [
        "x=\"10\"\n",
        "y=\"20\"\n",
        "x+y"
      ]
    },
    {
      "cell_type": "code",
      "execution_count": null,
      "metadata": {
        "colab": {
          "base_uri": "https://localhost:8080/",
          "height": 35
        },
        "id": "3QSMRyU4AIzy",
        "outputId": "77160550-97af-4436-a878-5148f1265368"
      },
      "outputs": [
        {
          "data": {
            "application/vnd.google.colaboratory.intrinsic+json": {
              "type": "string"
            },
            "text/plain": [
              "'10101010101010101010'"
            ]
          },
          "execution_count": 6,
          "metadata": {},
          "output_type": "execute_result"
        }
      ],
      "source": [
        "x=\"10\"\n",
        "y=10\n",
        "x*y"
      ]
    },
    {
      "cell_type": "code",
      "execution_count": null,
      "metadata": {
        "colab": {
          "base_uri": "https://localhost:8080/"
        },
        "id": "It3BX8ULAI4X",
        "outputId": "c0b3aee4-0cd5-4123-c8d4-d2367918f3b1"
      },
      "outputs": [
        {
          "data": {
            "text/plain": [
              "0"
            ]
          },
          "execution_count": 7,
          "metadata": {},
          "output_type": "execute_result"
        }
      ],
      "source": [
        "x=10\n",
        "y=10\n",
        "x%y"
      ]
    },
    {
      "cell_type": "code",
      "execution_count": null,
      "metadata": {
        "colab": {
          "base_uri": "https://localhost:8080/"
        },
        "id": "L6Blua6GC-bI",
        "outputId": "bd9251fb-9308-4740-f7c7-d18e881abadf"
      },
      "outputs": [
        {
          "data": {
            "text/plain": [
              "10000000000"
            ]
          },
          "execution_count": 9,
          "metadata": {},
          "output_type": "execute_result"
        }
      ],
      "source": [
        "x=10\n",
        "y=10\n",
        "x**y"
      ]
    },
    {
      "cell_type": "code",
      "execution_count": null,
      "metadata": {
        "colab": {
          "base_uri": "https://localhost:8080/"
        },
        "id": "Q_IUYkeaDG7L",
        "outputId": "3f6f2575-2e1e-459b-8a63-b9a1a2d0547a"
      },
      "outputs": [
        {
          "name": "stdout",
          "output_type": "stream",
          "text": [
            "x+y 30\n",
            "x-y 10\n",
            "x*y 200\n",
            "x/y 2.0\n",
            "x//y 2\n",
            "x**y 10240000000000\n"
          ]
        }
      ],
      "source": [
        "x=20\n",
        "y=10\n",
        "print('x+y',x+y)\n",
        "print('x-y',x-y)\n",
        "print('x*y',x*y)\n",
        "print('x/y',x/y)\n",
        "print('x//y',x//y)\n",
        "print('x**y',x**y)"
      ]
    },
    {
      "cell_type": "code",
      "execution_count": null,
      "metadata": {
        "colab": {
          "base_uri": "https://localhost:8080/"
        },
        "id": "hwmS8Ua5DHKS",
        "outputId": "a1f21d7e-7b6b-4619-f2d9-62c80d5c12a0"
      },
      "outputs": [
        {
          "data": {
            "text/plain": [
              "4"
            ]
          },
          "execution_count": 12,
          "metadata": {},
          "output_type": "execute_result"
        }
      ],
      "source": [
        "x=2\n",
        "x=x+2\n",
        "x"
      ]
    },
    {
      "cell_type": "code",
      "execution_count": null,
      "metadata": {
        "colab": {
          "base_uri": "https://localhost:8080/"
        },
        "id": "GanGtvgPDHNP",
        "outputId": "421062c9-f7bd-465c-a441-6c75dbf5e463"
      },
      "outputs": [
        {
          "data": {
            "text/plain": [
              "12"
            ]
          },
          "execution_count": 14,
          "metadata": {},
          "output_type": "execute_result"
        }
      ],
      "source": [
        "x*3"
      ]
    },
    {
      "cell_type": "code",
      "execution_count": null,
      "metadata": {
        "colab": {
          "base_uri": "https://localhost:8080/"
        },
        "id": "7pEc1EdUDHQU",
        "outputId": "14f723ea-8fa6-4abe-d187-764dd8f52ecb"
      },
      "outputs": [
        {
          "output_type": "stream",
          "name": "stdout",
          "text": [
            "choice 1: add, 2 : sub, 3 : div, 4: mul, 5: quit\n",
            "enter the choice of operation : 1\n",
            "you have chosen addition option : \n",
            "enter the value of a : 199\n",
            "enter the value of b : 232\n",
            "the result 199 + 232 = 431\n",
            "choice 1: add, 2 : sub, 3 : div, 4: mul, 5: quit\n",
            "enter the choice of operation : 3\n",
            "you have chosen division option : \n",
            "enter the value of a : 123\n",
            "enter the value of b : 12\n",
            "the result 123 / 12 = 10.25\n"
          ]
        }
      ],
      "source": [
        "print(\"choice 1: add, 2 : sub, 3 : div, 4: mul, 5: quit\")\n",
        "n1=input(\"enter the choice of operation : \")\n",
        "n=int(n1)\n",
        "if(n==1):\n",
        "  print(\"you have chosen addition option : \")\n",
        "  a1=input(\"enter the value of a : \")\n",
        "  b1=input(\"enter the value of b : \")\n",
        "  a=int(a1)\n",
        "  b=int(b1)\n",
        "  c=a+b\n",
        "  print(\"the result\",a,\"+\",b,\"=\",c)\n",
        "elif(n==2):\n",
        "  print(\"you have chosen subraction option : \")\n",
        "  a1=input(\"enter the value of a : \")\n",
        "  b1=input(\"enter the value of b : \")\n",
        "  a=int(a1)\n",
        "  b=int(b1)\n",
        "  c=a-b\n",
        "  print(\"the result\",a,\"-\",b,\"=\",c)\n",
        "elif(n==3):\n",
        "  print(\"you have chosen division option : \")\n",
        "  a1=input(\"enter the value of a : \")\n",
        "  b1=input(\"enter the value of b : \")\n",
        "  a=int(a1)\n",
        "  b=int(b1)\n",
        "  c=a/b\n",
        "  print(\"the result\",a,\"/\",b,\"=\",c)\n",
        "elif(n==4):\n",
        "  print(\"you have chosen multiplication option : \")\n",
        "  a1=input(\"enter the value of a : \")\n",
        "  b1=input(\"enter the value of b : \")\n",
        "  a=int(a1)\n",
        "  b=int(b1)\n",
        "  c=a*b\n",
        "  print(\"the result\",a,\"*\",b,\"=\",c)\n",
        "elif(n==5):\n",
        "  print(\"you have given a wrong : \",n)\n",
        "  exit\n"
      ]
    },
    {
      "cell_type": "code",
      "execution_count": null,
      "metadata": {
        "id": "6r22vZD_DHZC",
        "colab": {
          "base_uri": "https://localhost:8080/"
        },
        "outputId": "ce03864e-f67e-4ffc-ad94-391c3588e214"
      },
      "outputs": [
        {
          "output_type": "stream",
          "name": "stdout",
          "text": [
            "fibonacci series\n",
            "enter the number: 5\n",
            "\n",
            "\n",
            "*****************************************\n",
            "0\n",
            "1\n",
            "1\n",
            "2\n",
            "3\n",
            "5\n"
          ]
        }
      ],
      "source": [
        "print(\"fibonacci series\")\n",
        "n1 =input(\"enter the number: \")\n",
        "n=int(n1)\n",
        "if(n>0):\n",
        "  f=0\n",
        "  s=1\n",
        "  i=0\n",
        "  next=0\n",
        "  while(1):\n",
        "    print(\"\\n\\n*****************************************\")\n",
        "    for i in range(n+1):\n",
        "      if(i<=1):\n",
        "         print(i)\n",
        "      else:\n",
        "        next = f+s\n",
        "        f=s\n",
        "        s=next\n",
        "        print(next)\n",
        "    i=i+1\n",
        "    break\n",
        "else:\n",
        "  print(\"you have entered wrong input\",n)"
      ]
    },
    {
      "cell_type": "code",
      "source": [
        "x=10\n",
        "y=20\n",
        "print('x>y is',x>y)\n",
        "print('x<y is',x<y)\n",
        "print('x==y is',x==y)\n",
        "print('x!=y is',x!=y)\n",
        "print('x>=y is',x>=y)\n",
        "print('x<=y is',x<=y)"
      ],
      "metadata": {
        "colab": {
          "base_uri": "https://localhost:8080/"
        },
        "id": "BkkgLOtmW05H",
        "outputId": "0cd8cd56-b48e-4bbc-d9d8-655b67910d38"
      },
      "execution_count": null,
      "outputs": [
        {
          "output_type": "stream",
          "name": "stdout",
          "text": [
            "x>y is False\n",
            "x<y is True\n",
            "x==y is False\n",
            "x!=y is True\n",
            "x>=y is False\n",
            "x<=y is True\n"
          ]
        }
      ]
    },
    {
      "cell_type": "code",
      "source": [
        "x=True\n",
        "y=true\n",
        "print('x and y is',)"
      ],
      "metadata": {
        "id": "vR3OkvzpYAso"
      },
      "execution_count": null,
      "outputs": []
    }
  ],
  "metadata": {
    "colab": {
      "collapsed_sections": [],
      "name": "Untitled4.ipynb",
      "provenance": [],
      "authorship_tag": "ABX9TyO/FEzMyyYwuUWPu1SzSQTM",
      "include_colab_link": true
    },
    "kernelspec": {
      "display_name": "Python 3",
      "name": "python3"
    },
    "language_info": {
      "name": "python"
    }
  },
  "nbformat": 4,
  "nbformat_minor": 0
}