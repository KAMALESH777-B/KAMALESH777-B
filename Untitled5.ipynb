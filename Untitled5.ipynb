{
  "nbformat": 4,
  "nbformat_minor": 0,
  "metadata": {
    "colab": {
      "name": "Untitled5.ipynb",
      "provenance": [],
      "authorship_tag": "ABX9TyOWQZDJ+ftdGpMwdcgww6WQ",
      "include_colab_link": true
    },
    "kernelspec": {
      "name": "python3",
      "display_name": "Python 3"
    },
    "language_info": {
      "name": "python"
    }
  },
  "cells": [
    {
      "cell_type": "markdown",
      "metadata": {
        "id": "view-in-github",
        "colab_type": "text"
      },
      "source": [
        "<a href=\"https://colab.research.google.com/github/KAMALESH777-B/KAMALESH777-B/blob/main/Untitled5.ipynb\" target=\"_parent\"><img src=\"https://colab.research.google.com/assets/colab-badge.svg\" alt=\"Open In Colab\"/></a>"
      ]
    },
    {
      "cell_type": "code",
      "execution_count": null,
      "metadata": {
        "id": "JioKUpcMvwX5",
        "outputId": "552df239-ba7e-4eb0-b914-62dd3853a1a0",
        "colab": {
          "base_uri": "https://localhost:8080/"
        }
      },
      "outputs": [
        {
          "output_type": "stream",
          "name": "stdout",
          "text": [
            "x and y is False\n",
            "x or y is True\n",
            "not x is False\n"
          ]
        }
      ],
      "source": [
        "x=True\n",
        "y=False\n",
        "print('x and y is',x and y)\n",
        "print('x or y is',x or y)\n",
        "print('not x is',not x )"
      ]
    },
    {
      "cell_type": "code",
      "source": [
        "x1=5\n",
        "y1=5\n",
        "x2='hello'\n",
        "y2='hello'\n",
        "x3=[1,2,3]\n",
        "y3=[1,2,3]\n",
        "print(x1 is not y1)\n",
        "print(x2 is y2)\n",
        "print(x3 is y3)"
      ],
      "metadata": {
        "id": "4SNZA21Wvy3n",
        "colab": {
          "base_uri": "https://localhost:8080/"
        },
        "outputId": "aff4f251-586f-41cf-d37b-dd06f852d801"
      },
      "execution_count": null,
      "outputs": [
        {
          "output_type": "stream",
          "name": "stdout",
          "text": [
            "False\n",
            "True\n",
            "False\n"
          ]
        }
      ]
    },
    {
      "cell_type": "markdown",
      "source": [
        ""
      ],
      "metadata": {
        "id": "ao1HkuEcvzYM"
      }
    },
    {
      "cell_type": "code",
      "source": [
        "x='hello world'\n",
        "y={1:'a',2:'b'}\n",
        "print('h' in x)\n",
        "print('hello' not in x)\n",
        "print(1 in y)\n",
        "print('a' in y)"
      ],
      "metadata": {
        "colab": {
          "base_uri": "https://localhost:8080/"
        },
        "id": "UUt7tjfO81AX",
        "outputId": "16501be7-c054-4699-8051-0c91cae84e57"
      },
      "execution_count": null,
      "outputs": [
        {
          "output_type": "stream",
          "name": "stdout",
          "text": [
            "True\n",
            "False\n",
            "True\n",
            "False\n"
          ]
        }
      ]
    },
    {
      "cell_type": "markdown",
      "source": [
        "a=10\n",
        "b=-10\n",
        "print(\"a>>1=\",a>>1)\n",
        "print(\"b>>1=\",b>>1)"
      ],
      "metadata": {
        "id": "9urXGJ4j9x2H"
      }
    },
    {
      "cell_type": "code",
      "source": [
        "a=True\n",
        "b=False\n",
        "print('a=',a,'b=',b)\n",
        "a=False;\n",
        "print('a=',a,'b=',b)"
      ],
      "metadata": {
        "colab": {
          "base_uri": "https://localhost:8080/"
        },
        "id": "cefkV94i-Yvb",
        "outputId": "242c48d3-3787-4ba1-c08d-1dd9e77693eb"
      },
      "execution_count": null,
      "outputs": [
        {
          "output_type": "stream",
          "name": "stdout",
          "text": [
            "a= True b= False\n",
            "a= False b= False\n"
          ]
        }
      ]
    },
    {
      "cell_type": "code",
      "source": [
        "dividend, divisor=eval(input('please enter two number to divide:'))\n",
        "if divisor !=0:\n",
        "  print(dividend,'/',divisor,\"=\",dividend/divisor)"
      ],
      "metadata": {
        "colab": {
          "base_uri": "https://localhost:8080/"
        },
        "id": "5x5exUc0-ZJp",
        "outputId": "e74e7252-98fa-400f-c112-a17384f0e038"
      },
      "execution_count": null,
      "outputs": [
        {
          "output_type": "stream",
          "name": "stdout",
          "text": [
            "please enter two number to divide:32,8\n",
            "32 / 8 = 4.0\n"
          ]
        }
      ]
    },
    {
      "cell_type": "code",
      "source": [
        "value=eval(input(\"please enter an integer in the range 0....5: \"))\n",
        "if value< 0:\n",
        "  print(\"too small\")\n",
        "else:\n",
        "  if value == 0:\n",
        "    print(\"zero\")\n",
        "  else:\n",
        "    if value==1:\n",
        "      print(\"one\")\n",
        "    else:\n",
        "      if value==2:\n",
        "        print(\"two\")\n",
        "      else:\n",
        "        if value==3:\n",
        "          print(\"three\")\n",
        "        else:\n",
        "          if value==4:\n",
        "            print(\"four\")\n",
        "          else:\n",
        "            if value==5:\n",
        "              print(\"five\")\n",
        "            else:\n",
        "              print(\"Too large\")\n",
        "print(\"done\")"
      ],
      "metadata": {
        "colab": {
          "base_uri": "https://localhost:8080/"
        },
        "id": "4Whhpfwr-ZxS",
        "outputId": "c10e07cf-1502-461c-dd7c-31428262a0c0"
      },
      "execution_count": null,
      "outputs": [
        {
          "output_type": "stream",
          "name": "stdout",
          "text": [
            "please enter an integer in the range 0....5: 3\n",
            "three\n",
            "done\n"
          ]
        }
      ]
    },
    {
      "cell_type": "code",
      "source": [
        ""
      ],
      "metadata": {
        "id": "OKBvrGna-Z9G"
      },
      "execution_count": null,
      "outputs": []
    }
  ]
}